{
 "cells": [
  {
   "cell_type": "markdown",
   "metadata": {},
   "source": [
    "#### we will work on our MovieLens dataset using the \"Pandas\" package.\n",
    "# Pandas makes working with Tabular data very easy as we will \n",
    "\n",
    "import pandas as pd\n",
    "\n",
    "# read the movies.csv file and create a Pandas DataFrame called movies_df\n",
    "movies_df = pd.read_csv('movies.csv')"
   ]
  },
  {
   "cell_type": "code",
   "execution_count": 1,
   "metadata": {},
   "outputs": [
    {
     "ename": "NameError",
     "evalue": "name 'movies_df' is not defined",
     "output_type": "error",
     "traceback": [
      "\u001b[0;31m---------------------------------------------------------------------------\u001b[0m",
      "\u001b[0;31mNameError\u001b[0m                                 Traceback (most recent call last)",
      "\u001b[0;32m<ipython-input-1-9b446ebc695e>\u001b[0m in \u001b[0;36m<module>\u001b[0;34m\u001b[0m\n\u001b[1;32m      1\u001b[0m \u001b[0;31m# now lets peek into this data frame object using its head function\u001b[0m\u001b[0;34m\u001b[0m\u001b[0;34m\u001b[0m\u001b[0;34m\u001b[0m\u001b[0m\n\u001b[0;32m----> 2\u001b[0;31m \u001b[0mmovies_df\u001b[0m\u001b[0;34m.\u001b[0m\u001b[0mhead\u001b[0m\u001b[0;34m(\u001b[0m\u001b[0;34m)\u001b[0m\u001b[0;34m\u001b[0m\u001b[0;34m\u001b[0m\u001b[0m\n\u001b[0m",
      "\u001b[0;31mNameError\u001b[0m: name 'movies_df' is not defined"
     ]
    }
   ],
   "source": [
    "# now lets peek into this data frame object using its head function\n",
    "movies_df.head()"
   ]
  },
  {
   "cell_type": "code",
   "execution_count": null,
   "metadata": {},
   "outputs": [],
   "source": [
    "# now lets see what is shape, i.e, number of rows and number of columns in the dataframe\n",
    "# to do that we access the shape variable of the data frame object\n",
    "\n",
    "movies_df.shape"
   ]
  },
  {
   "cell_type": "code",
   "execution_count": null,
   "metadata": {},
   "outputs": [],
   "source": [
    "# to access \n",
    "print(movies_df.iloc[0][0])\n",
    "print(movies_df.iloc[0][1])\n",
    "print(movies_df.iloc[0][2])"
   ]
  },
  {
   "cell_type": "markdown",
   "metadata": {},
   "source": [
    "#### to access \n",
    "print(movies_df.iloc[0][0])\n",
    "print(movies_df.iloc[0][1])\n",
    "print(movies_df.iloc[0][2])"
   ]
  },
  {
   "cell_type": "code",
   "execution_count": null,
   "metadata": {},
   "outputs": [],
   "source": [
    "# now lets see how many movies are there in this data\n",
    "len(movies_df.index)"
   ]
  },
  {
   "cell_type": "code",
   "execution_count": null,
   "metadata": {},
   "outputs": [],
   "source": [
    "# now lets find genre distribution of the movies we have\n",
    "\n",
    "movies_df.head()"
   ]
  },
  {
   "cell_type": "code",
   "execution_count": null,
   "metadata": {},
   "outputs": [],
   "source": [
    "# the genres are pipe-character separated and it makes it hard for us find genre distribution\n",
    "\n",
    "# lets add a new column called 'genres_arr' which has the genres represented as an array\n",
    "movies_df['genres_arr'] = movies_df['genres'].str.split('|')\n",
    "\n",
    "# now lets look at our dataframe to see the new column we added\n",
    "movies_df.head()"
   ]
  },
  {
   "cell_type": "code",
   "execution_count": null,
   "metadata": {},
   "outputs": [],
   "source": [
    "# what if we only wanted to work on Animation movies\n",
    "filter = movies_df.apply(lambda row: 'Animation' in row['genres_arr'], axis='columns')\n",
    "filter.head()"
   ]
  },
  {
   "cell_type": "code",
   "execution_count": null,
   "metadata": {},
   "outputs": [],
   "source": [
    "animation_df = movies_df[filter]\n",
    "animation_df.head()\n",
    "print(len(animation_df.index))"
   ]
  },
  {
   "cell_type": "code",
   "execution_count": null,
   "metadata": {},
   "outputs": [],
   "source": [
    "# now lets count the frequency of each genre across all our movies\n",
    "\n",
    "genre_counter = {}\n",
    "for index, row in movies_df.iterrows():\n",
    "    for genre in row['genres_arr']:\n",
    "        genre_counter[genre] = genre_counter.get(genre, 0) + 1\n",
    "\n",
    "print(genre_counter)"
   ]
  },
  {
   "cell_type": "code",
   "execution_count": null,
   "metadata": {},
   "outputs": [],
   "source": [
    "# now let's plot the genres distribution as a bar chart and visualize it\n",
    "\n",
    "# introducing the matplotlib package which lets us plot charts, graphs in Python\n",
    "%matplotlib inline\n",
    "import matplotlib.pyplot as plt\n",
    "\n",
    "# now lets plot this genre distribution as a pie chart\n",
    "plt.pie(genre_counter.values(), labels=genre_counter.keys())\n",
    "plt.title('Genre distribution')\n",
    "plt.show()"
   ]
  },
  {
   "cell_type": "code",
   "execution_count": null,
   "metadata": {},
   "outputs": [],
   "source": [
    "# we can also plot a bar chart (with grid lines and slanted x axis labels for better readability)\n",
    "x = list(range(len(genre_counter)))\n",
    "plt.xticks(x, genre_counter.keys(), rotation=80)\n",
    "plt.bar(x, genre_counter.values())\n",
    "plt.title('Genre distribution as bar chart')\n",
    "plt.plot()"
   ]
  },
  {
   "cell_type": "code",
   "execution_count": null,
   "metadata": {},
   "outputs": [],
   "source": [
    "# Lets find masala movies to watch, as we all love masala :)\n",
    "# Real masala movies has Action and Romance and Comedy and Thriller :)\n",
    "masala_genres = ['Romance','Comedy', 'Action', 'Thriller']\n",
    "masala_lambda = lambda x: set(masala_genres).issubset(x['genres_arr'])\n",
    "masala_movies = movies_df[movies_df.apply(masala_lambda, axis='columns')]\n",
    "masala_movies"
   ]
  },
  {
   "cell_type": "code",
   "execution_count": null,
   "metadata": {},
   "outputs": [],
   "source": [
    "# now let's do the 5 point summary of ratings attribute\n",
    "\n",
    "# read the ratings.csv file and create a Pandas DataFrame called movies_df\n",
    "ratings_df = pd.read_csv('ml-latest-small/ratings.csv')\n",
    "ratings_df.head()"
   ]
  },
  {
   "cell_type": "code",
   "execution_count": null,
   "metadata": {},
   "outputs": [],
   "source": [
    "# lets find out all values ratings users can give to movies\n",
    "unique_ratings = ratings_df['rating'].unique()\n",
    "unique_ratings.sort()\n",
    "print(unique_ratings)"
   ]
  },
  {
   "cell_type": "code",
   "execution_count": null,
   "metadata": {},
   "outputs": [],
   "source": [
    "# now lets find out number of ratings and number of users who have given those ratings\n",
    "\n",
    "print('#ratings %d' % len(ratings_df.index))\n",
    "print('#users %d' % len(ratings_df['userId'].unique()))"
   ]
  },
  {
   "cell_type": "code",
   "execution_count": null,
   "metadata": {},
   "outputs": [],
   "source": [
    "# introducing the numpy package which is used to find various stats out of data\n",
    "import numpy as np\n",
    "\n",
    "# 5 point summary of ratings\n",
    "print('min: %.1f' % np.min(ratings_df.rating))\n",
    "print('25 percentile: %.1f' % np.percentile(ratings_df.rating, 25))\n",
    "print('median: %.1f' % np.median(ratings_df['rating']))\n",
    "print('75 percentile: %.1f' % np.percentile(ratings_df.rating, 75))\n",
    "print('max: %.1f' % np.max(ratings_df.rating))"
   ]
  },
  {
   "cell_type": "code",
   "execution_count": null,
   "metadata": {},
   "outputs": [],
   "source": [
    "# now lets see how many movies have got each of these ratings\n",
    "\n",
    "ratings_df['rating'].value_counts()"
   ]
  },
  {
   "cell_type": "code",
   "execution_count": null,
   "metadata": {},
   "outputs": [],
   "source": [
    "# now lets plot a histogram of movie ratings to get an overall picture\n",
    "plt.hist(ratings_df.rating)\n",
    "plt.xticks([0, 0.5, 1.0, 1.5, 2.0, 2.5, 3.0, 3.5, 4.0, 4.5, 5.0])\n",
    "plt.xlabel('Rating')\n",
    "plt.ylabel('# of movies')\n",
    "plt.grid()\n",
    "plt.show()"
   ]
  },
  {
   "cell_type": "code",
   "execution_count": null,
   "metadata": {},
   "outputs": [],
   "source": [
    "# now lets find the highest rated movies (movies with highest average rating)\n",
    "ratings_df.head()\n"
   ]
  },
  {
   "cell_type": "code",
   "execution_count": null,
   "metadata": {},
   "outputs": [],
   "source": [
    "# create a dataframe with just movieId and rating attributes\n",
    "ratings_view = ratings_df[['movieId', 'rating']]\n",
    "ratings_view.groupby(['movieId'], as_index=False).mean().sort_values(by='rating', ascending=False).head(10)"
   ]
  },
  {
   "cell_type": "markdown",
   "metadata": {},
   "source": [
    "#### but which movies are these, we want their names as well\n",
    "\n",
    "# now lets merge/join the movies_df and ratings_df so that we can see the actual movie titles of top 10 movies\n",
    "merged_df = pd.merge(ratings_df, movies_df, on='movieId')\n",
    "merged_df.head()"
   ]
  },
  {
   "cell_type": "code",
   "execution_count": null,
   "metadata": {},
   "outputs": [],
   "source": [
    "# create a dataframe with just movieId and rating attributes\n",
    "ratings_view = merged_df[['movieId', 'rating', 'title']]\n",
    "ratings_view.groupby(['movieId', 'title'], as_index=False).mean().sort_values(by='rating', ascending=False).head(10)"
   ]
  },
  {
   "cell_type": "code",
   "execution_count": null,
   "metadata": {},
   "outputs": [],
   "source": [
    "# but these are surely not the top rated movies we would expect there must be a problem\n",
    "\n",
    "# lets check how many ratings have these movies received, lets take an example of movieId 163949\n",
    "len(merged_df[merged_df['movieId'] == 163949].index)"
   ]
  },
  {
   "cell_type": "markdown",
   "metadata": {},
   "source": [
    "#### now lets only consider movies which have atleast 100 ratings and see how the top 10 movies change\n",
    "temp_df = ratings_view.groupby(['movieId', 'title'], as_index=False).count()\n",
    "well_rated_df = temp_df[temp_df.apply(lambda x: x['rating'] > 100, axis='columns')]\n",
    "\n",
    "well_rated_df.head()"
   ]
  },
  {
   "cell_type": "code",
   "execution_count": null,
   "metadata": {},
   "outputs": [],
   "source": [
    "final_df = pd.merge(merged_df, well_rated_df, how='inner', on=['movieId'])\n",
    "final_df.head()"
   ]
  },
  {
   "cell_type": "code",
   "execution_count": null,
   "metadata": {},
   "outputs": [],
   "source": [
    "ratings_view = final_df[['movieId', 'rating_x', 'title_x']]\n",
    "x = ratings_view.groupby(['movieId', 'title_x'], as_index=False).mean().sort_values(by='rating_x', ascending=False)\n",
    "x.head(10)"
   ]
  },
  {
   "cell_type": "code",
   "execution_count": null,
   "metadata": {},
   "outputs": [],
   "source": []
  },
  {
   "cell_type": "code",
   "execution_count": null,
   "metadata": {},
   "outputs": [],
   "source": []
  },
  {
   "cell_type": "code",
   "execution_count": null,
   "metadata": {},
   "outputs": [],
   "source": []
  }
 ],
 "metadata": {
  "kernelspec": {
   "display_name": "Python 3",
   "language": "python",
   "name": "python3"
  },
  "language_info": {
   "codemirror_mode": {
    "name": "ipython",
    "version": 3
   },
   "file_extension": ".py",
   "mimetype": "text/x-python",
   "name": "python",
   "nbconvert_exporter": "python",
   "pygments_lexer": "ipython3",
   "version": "3.7.3"
  }
 },
 "nbformat": 4,
 "nbformat_minor": 2
}
