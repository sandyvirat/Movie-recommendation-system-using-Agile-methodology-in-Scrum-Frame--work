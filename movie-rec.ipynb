{
 "cells": [
  {
   "cell_type": "code",
   "execution_count": 1,
   "metadata": {
    "scrolled": false
   },
   "outputs": [
    {
     "name": "stderr",
     "output_type": "stream",
     "text": [
      "/Users/ajaydvss/anaconda3/lib/python3.7/site-packages/lightfm/_lightfm_fast.py:9: UserWarning: LightFM was compiled without OpenMP support. Only a single thread will be used.\n",
      "  warnings.warn('LightFM was compiled without OpenMP support. '\n"
     ]
    }
   ],
   "source": [
    "import numpy as np\n",
    "from lightfm.datasets import fetch_movielens\n",
    "from lightfm import LightFM"
   ]
  },
  {
   "cell_type": "code",
   "execution_count": 2,
   "metadata": {},
   "outputs": [],
   "source": [
    "#fetch data and format it\n",
    "data = fetch_movielens(min_rating=4.0)"
   ]
  },
  {
   "cell_type": "code",
   "execution_count": 3,
   "metadata": {},
   "outputs": [
    {
     "name": "stdout",
     "output_type": "stream",
     "text": [
      "<943x1682 sparse matrix of type '<class 'numpy.int32'>'\n",
      "\twith 49906 stored elements in COOrdinate format>\n",
      "<943x1682 sparse matrix of type '<class 'numpy.int32'>'\n",
      "\twith 5469 stored elements in COOrdinate format>\n"
     ]
    }
   ],
   "source": [
    "#print training and testing data\n",
    "print(repr(data['train']))\n",
    "print(repr(data['test']))"
   ]
  },
  {
   "cell_type": "code",
   "execution_count": 4,
   "metadata": {},
   "outputs": [
    {
     "data": {
      "text/plain": [
       "<lightfm.lightfm.LightFM at 0x1178d7940>"
      ]
     },
     "execution_count": 4,
     "metadata": {},
     "output_type": "execute_result"
    }
   ],
   "source": [
    "#create model\n",
    "model = LightFM(loss='warp')\n",
    "#train model\n",
    "model.fit(data['train'], epochs=30, num_threads=2)"
   ]
  },
  {
   "cell_type": "code",
   "execution_count": 5,
   "metadata": {},
   "outputs": [],
   "source": [
    "def sample_recommendation(model, data, user_ids):\n",
    "\n",
    "    #number of users and movies in training data\n",
    "    n_users, n_items = data['train'].shape\n",
    "\n",
    "    #generate recommendations for each user we input\n",
    "    for user_id in user_ids:\n",
    "\n",
    "        #movies they already like\n",
    "        known_positives = data['item_labels'][data['train'].tocsr()[user_id].indices]\n",
    "\n",
    "        #movies our model predicts they will like\n",
    "        scores = model.predict(user_id, np.arange(n_items))\n",
    "        #rank them in order of most liked to least\n",
    "        top_items = data['item_labels'][np.argsort(-scores)]\n",
    "\n",
    "        #print out the results\n",
    "        print(\"User %s\" % user_id)\n",
    "        print(\"     Known positives:\")\n",
    "\n",
    "        for x in known_positives[:4]:\n",
    "            print(\"        %s\" % x)\n",
    "\n",
    "        print(\"     Recommended:\")\n",
    "\n",
    "        for x in top_items[:4]:\n",
    "            print(\"        %s\" % x)"
   ]
  },
  {
   "cell_type": "code",
   "execution_count": 6,
   "metadata": {},
   "outputs": [
    {
     "name": "stdout",
     "output_type": "stream",
     "text": [
      "User 23\n",
      "     Known positives:\n",
      "        Twelve Monkeys (1995)\n",
      "        Babe (1995)\n",
      "        Dead Man Walking (1995)\n",
      "        Seven (Se7en) (1995)\n",
      "     Recommended:\n",
      "        Star Wars (1977)\n",
      "        Fargo (1996)\n",
      "        Return of the Jedi (1983)\n",
      "        Godfather, The (1972)\n",
      "User 180\n",
      "     Known positives:\n",
      "        Twelve Monkeys (1995)\n",
      "        Dead Man Walking (1995)\n",
      "        Birdcage, The (1996)\n",
      "        Independence Day (ID4) (1996)\n",
      "     Recommended:\n",
      "        Scream (1996)\n",
      "        Rock, The (1996)\n",
      "        Time to Kill, A (1996)\n",
      "        Independence Day (ID4) (1996)\n",
      "User 69\n",
      "     Known positives:\n",
      "        Toy Story (1995)\n",
      "        Babe (1995)\n",
      "        Rumble in the Bronx (1995)\n",
      "        Apollo 13 (1995)\n",
      "     Recommended:\n",
      "        Raiders of the Lost Ark (1981)\n",
      "        Empire Strikes Back, The (1980)\n",
      "        Star Wars (1977)\n",
      "        Terminator, The (1984)\n",
      "User 77\n",
      "     Known positives:\n",
      "        Welcome to the Dollhouse (1995)\n",
      "        Jerry Maguire (1996)\n",
      "        Scream (1996)\n",
      "        Nutty Professor, The (1996)\n",
      "     Recommended:\n",
      "        Fargo (1996)\n",
      "        Jerry Maguire (1996)\n",
      "        Scream (1996)\n",
      "        Rock, The (1996)\n"
     ]
    }
   ],
   "source": [
    "sample_recommendation(model, data, [23, 180, 69,77])"
   ]
  },
  {
   "cell_type": "code",
   "execution_count": null,
   "metadata": {},
   "outputs": [],
   "source": []
  }
 ],
 "metadata": {
  "kernelspec": {
   "display_name": "Python 3",
   "language": "python",
   "name": "python3"
  },
  "language_info": {
   "codemirror_mode": {
    "name": "ipython",
    "version": 3
   },
   "file_extension": ".py",
   "mimetype": "text/x-python",
   "name": "python",
   "nbconvert_exporter": "python",
   "pygments_lexer": "ipython3",
   "version": "3.7.3"
  }
 },
 "nbformat": 4,
 "nbformat_minor": 2
}
